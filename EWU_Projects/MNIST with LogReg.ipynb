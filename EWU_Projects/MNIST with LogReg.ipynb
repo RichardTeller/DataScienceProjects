{
 "cells": [
  {
   "cell_type": "markdown",
   "metadata": {},
   "source": [
    "# Assignment 3 - Predicting Hand-Written Digits\n",
    "Machine Learning\n",
    "\n",
    "Richard Teller"
   ]
  },
  {
   "cell_type": "markdown",
   "metadata": {},
   "source": [
    "Let's load in the hand written digit images from scikit-learn."
   ]
  },
  {
   "cell_type": "code",
   "execution_count": 42,
   "metadata": {},
   "outputs": [
    {
     "name": "stdout",
     "output_type": "stream",
     "text": [
      "(1797, 64)\n"
     ]
    }
   ],
   "source": [
    "from sklearn.datasets import load_digits\n",
    "digits = load_digits()\n",
    "print(digits.data.shape)"
   ]
  },
  {
   "cell_type": "markdown",
   "metadata": {},
   "source": [
    "Now display one of the sample digits:"
   ]
  },
  {
   "cell_type": "code",
   "execution_count": 43,
   "metadata": {
    "scrolled": false
   },
   "outputs": [
    {
     "data": {
      "text/plain": [
       "<matplotlib.figure.Figure at 0x7f416d77c710>"
      ]
     },
     "metadata": {},
     "output_type": "display_data"
    },
    {
     "data": {
      "image/png": "[encoded data removed]",
      "text/plain": [
       "<matplotlib.figure.Figure at 0x7f416d77c5f8>"
      ]
     },
     "metadata": {},
     "output_type": "display_data"
    }
   ],
   "source": [
    "import matplotlib.pyplot as plt \n",
    "plt.gray() \n",
    "plt.matshow(digits.images[3]) \n",
    "plt.show() "
   ]
  },
  {
   "cell_type": "markdown",
   "metadata": {},
   "source": [
    "Seperate the predictor from the response data:"
   ]
  },
  {
   "cell_type": "code",
   "execution_count": 44,
   "metadata": {
    "scrolled": false
   },
   "outputs": [
    {
     "data": {
      "image/png": "[encoded data removed]",
      "text/plain": [
       "<matplotlib.figure.Figure at 0x7f416deb6748>"
      ]
     },
     "metadata": {},
     "output_type": "display_data"
    }
   ],
   "source": [
    "images_and_labels = list(zip(digits.images, digits.target))\n",
    "\n",
    "\n",
    "for index, (image, label) in enumerate(images_and_labels[:4]):\n",
    "    plt.subplot(2, 4, index + 1)\n",
    "    plt.axis('off')\n",
    "    plt.imshow(image, cmap=plt.cm.gray_r, interpolation='nearest')\n",
    "    plt.title('Training: %i' % label)\n",
    "\n",
    "plt.show()"
   ]
  },
  {
   "cell_type": "code",
   "execution_count": 45,
   "metadata": {},
   "outputs": [],
   "source": [
    "# flatten the image.\n",
    "# turn the data into a (samples, feature) matrix:\n",
    "n_samples = len(digits.images)\n",
    "data = digits.images.reshape((n_samples, -1))"
   ]
  },
  {
   "cell_type": "markdown",
   "metadata": {},
   "source": [
    "Seperate the data into training and testing groups:"
   ]
  },
  {
   "cell_type": "code",
   "execution_count": 49,
   "metadata": {},
   "outputs": [
    {
     "data": {
      "text/plain": [
       "((1437, 64), (1437,))"
      ]
     },
     "execution_count": 49,
     "metadata": {},
     "output_type": "execute_result"
    }
   ],
   "source": [
    "from sklearn.model_selection import train_test_split\n",
    "\n",
    "X = digits.data[:, :64]\n",
    "Y = digits.target\n",
    "\n",
    "X_train, X_test, y_train, y_test = train_test_split(X, Y, test_size=0.2, random_state=1)\n",
    "\n",
    "X_train.shape, y_train.shape"
   ]
  },
  {
   "cell_type": "markdown",
   "metadata": {},
   "source": [
    "Create the Logistic Regression model:"
   ]
  },
  {
   "cell_type": "code",
   "execution_count": 50,
   "metadata": {},
   "outputs": [],
   "source": [
    "model = linear_model.LogisticRegression(solver = 'lbfgs') # create a LogReg model object\n",
    "\n",
    "model.fit(X_train, y_train) # fit the model to our data\n",
    "\n",
    "y_predicted = model.predict(X_test)"
   ]
  },
  {
   "cell_type": "markdown",
   "metadata": {},
   "source": [
    "Create the Confusion Matrix:"
   ]
  },
  {
   "cell_type": "code",
   "execution_count": 51,
   "metadata": {},
   "outputs": [
    {
     "name": "stdout",
     "output_type": "stream",
     "text": [
      "Confusion matrix\n",
      "[[42  0  0  0  1  0  0  0  0  0]\n",
      " [ 0 34  0  0  0  0  0  0  1  0]\n",
      " [ 0  0 35  1  0  0  0  0  0  0]\n",
      " [ 0  0  0 39  0  0  0  0  1  1]\n",
      " [ 0  0  0  0 38  0  0  0  0  0]\n",
      " [ 0  0  0  1  0 29  0  0  0  0]\n",
      " [ 0  0  0  0  0  0 37  0  0  0]\n",
      " [ 0  0  0  0  0  0  0 36  0  1]\n",
      " [ 0  0  0  0  0  1  0  0 27  1]\n",
      " [ 0  0  0  0  0  1  0  0  1 32]]\n"
     ]
    }
   ],
   "source": [
    "from sklearn.metrics import confusion_matrix\n",
    "\n",
    "confusion = confusion_matrix(y_test, y_predicted)\n",
    "print('Confusion matrix')\n",
    "print(confusion)"
   ]
  },
  {
   "cell_type": "markdown",
   "metadata": {},
   "source": [
    "Display the accuracy of the model:"
   ]
  },
  {
   "cell_type": "code",
   "execution_count": 58,
   "metadata": {},
   "outputs": [
    {
     "name": "stdout",
     "output_type": "stream",
     "text": [
      "             precision    recall  f1-score   support\n",
      "\n",
      "          0       1.00      0.98      0.99        43\n",
      "          1       1.00      0.97      0.99        35\n",
      "          2       1.00      0.97      0.99        36\n",
      "          3       0.95      0.95      0.95        41\n",
      "          4       0.97      1.00      0.99        38\n",
      "          5       0.94      0.97      0.95        30\n",
      "          6       1.00      1.00      1.00        37\n",
      "          7       1.00      0.97      0.99        37\n",
      "          8       0.90      0.93      0.92        29\n",
      "          9       0.91      0.94      0.93        34\n",
      "\n",
      "avg / total       0.97      0.97      0.97       360\n",
      "\n"
     ]
    }
   ],
   "source": [
    "from sklearn.metrics import classification_report\n",
    "print(classification_report(y_test, y_predicted))"
   ]
  },
  {
   "cell_type": "markdown",
   "metadata": {},
   "source": [
    "### Questions\n",
    "\n",
    "**Which digits are most often confused by the model?**\n",
    "\n",
    "The digit most often confused would be where there are a lot of numbers in each column for a single row.  This would mean for that particular digit (the row) the model thought it was many different numbers (the columns).  In our model we see it did a pretty good job of predicting the digits because there are very few numbers that are placed not on the diagonal.  By looking at the confusion matrix we see the digits 3, 8, and 9 are confused the most (each predicted 2 wrong digits).  However if the matrix was a lot messier we may want to do something like this to display the most confused digits:"
   ]
  },
  {
   "cell_type": "code",
   "execution_count": 90,
   "metadata": {},
   "outputs": [
    {
     "name": "stdout",
     "output_type": "stream",
     "text": [
      "Digit followed by Incorrect Predictions\n",
      "0: 1\n",
      "1: 1\n",
      "2: 1\n",
      "3: 2\n",
      "4: 0\n",
      "5: 1\n",
      "6: 0\n",
      "7: 1\n",
      "8: 2\n",
      "9: 2\n"
     ]
    }
   ],
   "source": [
    "# To find the total number of incorrect predictions for each digit we can sum the values in the row\n",
    "# and then subtract the diagonal entry for that row (since the diagonal value were the correct predictions)\n",
    "\n",
    "print(\"Digit followed by Incorrect Predictions\")\n",
    "i = 0\n",
    "while i < 10:\n",
    "    badPredictions = confusion[i].sum() - confusion.diagonal()[i]\n",
    "    print(\"%d: %d\" % (i, badPredictions))\n",
    "    i += 1\n"
   ]
  },
  {
   "cell_type": "markdown",
   "metadata": {},
   "source": [
    "Thus again, we see digits 3, 8, and 9 have the most incorrect predictions."
   ]
  },
  {
   "cell_type": "markdown",
   "metadata": {},
   "source": [
    "**What is the accuracy of the model?**\n",
    "\n",
    "The accuracy is (how many predicted correctly) / (how many total tested).  We can find how many were predicted correctly by summing the diagonal with the following code ``` confusion.diagonal().sum()``` and we can find the total tested with ```y_test.shape```"
   ]
  },
  {
   "cell_type": "code",
   "execution_count": 66,
   "metadata": {},
   "outputs": [
    {
     "name": "stdout",
     "output_type": "stream",
     "text": [
      "349\n",
      "(360,)\n"
     ]
    }
   ],
   "source": [
    "print(confusion.diagonal().sum())\n",
    "print(y_test.shape)"
   ]
  },
  {
   "cell_type": "markdown",
   "metadata": {},
   "source": [
    "Thus we have 349/360 = 0.96945 (Notice 360 is also the final entry in the support column in the table above and accuracy would be the final entry in the precision column).\n",
    "\n",
    "**Which digits are most often recognized correctly?**\n",
    "\n",
    "The digits with a perfect score of being predicted 100% of the time are digits 4 and 6.  They only have a number in their diagonal and 0's everywhere else in the row.  Having only a number in the diagonal is saying, everytime we had the digit 4, we predicted 4, for example.  The number itself is telling us how many times we made that correct prediction. Notice digits 4 and 6 have 0 bad predictions in my print out.\n",
    "\n",
    "**Which are recognized incorrectly?**\n",
    "\n",
    "Any number that is not on the diagonal indicates an incorrect prediction.  So for example in the first row we see a 1 in the fifth column.  This is saying that we had the digit 0 (because we're in the first row), but the model predicted a 4 (because fifth column).  And also in the next row, which represents the digit 1, we see we had a 1 in the second to last column which tells us that we had the digit 1 but we predicted an 8.  Again, anywhere there is a number that is not on the diagonal represents an incorrect prediction.  The number itself tells us how many times we made that incorrect prediction (how many 1's we thought were 7's, for example)."
   ]
  }
 ],
 "metadata": {
  "kernelspec": {
   "display_name": "Python 3",
   "language": "python",
   "name": "python3"
  },
  "language_info": {
   "codemirror_mode": {
    "name": "ipython",
    "version": 3
   },
   "file_extension": ".py",
   "mimetype": "text/x-python",
   "name": "python",
   "nbconvert_exporter": "python",
   "pygments_lexer": "ipython3",
   "version": "3.5.2"
  }
 },
 "nbformat": 4,
 "nbformat_minor": 2
}
